{
  "nbformat": 4,
  "nbformat_minor": 0,
  "metadata": {
    "colab": {
      "provenance": [],
      "include_colab_link": true
    },
    "kernelspec": {
      "name": "python3",
      "display_name": "Python 3"
    },
    "language_info": {
      "name": "python"
    }
  },
  "cells": [
    {
      "cell_type": "markdown",
      "metadata": {
        "id": "view-in-github",
        "colab_type": "text"
      },
      "source": [
        "<a href=\"https://colab.research.google.com/github/ruchithareddy269/256-final-exam-question-9/blob/main/256_exam_question_9.ipynb\" target=\"_parent\"><img src=\"https://colab.research.google.com/assets/colab-badge.svg\" alt=\"Open In Colab\"/></a>"
      ]
    },
    {
      "cell_type": "code",
      "source": [
        "import numpy as np\n",
        "\n",
        "from sklearn.metrics.pairwise import cosine_similarity\n",
        "import numpy as np\n",
        "from sklearn.metrics.pairwise import cosine_similarity"
      ],
      "metadata": {
        "id": "yt0sHxnVvgMV"
      },
      "execution_count": 22,
      "outputs": []
    },
    {
      "cell_type": "markdown",
      "source": [
        "\n",
        "# **a)If the query is “IOE and Edge” what documents should be retrieved?**\n",
        "\n"
      ],
      "metadata": {
        "id": "rVLKTBvU64Uq"
      }
    },
    {
      "cell_type": "code",
      "source": [
        "documents = {\n",
        "    \"A1\": [1, 0, 0, 1, 1],\n",
        "    \"A2\": [0, 1, 1, 1, 1],\n",
        "    \"A3\": [1, 1, 1, 0, 0],\n",
        "    \"A4\": [0, 0, 1, 1, 1],\n",
        "    \"A5\": [1, 0, 0, 1, 0],\n",
        "    \"A6\": [0, 0, 0, 1, 1],\n",
        "    \"A7\": [0, 1, 0, 1, 1],\n",
        "    \"A8\": [0, 1, 1, 0, 0],\n",
        "    \"A9\": [1, 1, 0, 0, 1]\n",
        "}\n",
        "\n",
        "# a) Boolean Query Matching for \"IOE and Edge\"\n",
        "ioe_index = 1  # Index for IoE\n",
        "edge_index = 2  # Index for Edge\n",
        "\n",
        "# Retrieving documents for \"IOE and Edge\"\n",
        "matching_documents_ioe_edge = [doc for doc, vec in documents.items() if vec[ioe_index] == 1 and vec[edge_index] == 1]\n",
        "print(matching_documents_ioe_edge)"
      ],
      "metadata": {
        "colab": {
          "base_uri": "https://localhost:8080/"
        },
        "id": "MLrnuppF5mdH",
        "outputId": "27aca778-1df8-4b5e-fd4e-9f5f4f65cc45"
      },
      "execution_count": 12,
      "outputs": [
        {
          "output_type": "stream",
          "name": "stdout",
          "text": [
            "['A2', 'A3', 'A8']\n"
          ]
        }
      ]
    },
    {
      "cell_type": "markdown",
      "source": [
        "# **b)If the Query is “Software, IoE, Edge) what documents should be retrieved?**\n"
      ],
      "metadata": {
        "id": "ui0M2NGB7J-U"
      }
    },
    {
      "cell_type": "code",
      "source": [
        "\n",
        "# b) Vector Space Matching for \"Software, IoE, Edge\"\n",
        "query_vector_software_ioe_edge = np.array(query_vector_software_ioe_edge)\n",
        "\n",
        "\n",
        "# Setting a threshold for similarity\n",
        "threshold = 0.5\n",
        "relevant_documents_software_ioe_edge = [doc for doc, score in similarity_scores_software_ioe_edge.items() if score >= threshold]\n",
        "\n",
        "relevant_documents_software_ioe_edge"
      ],
      "metadata": {
        "colab": {
          "base_uri": "https://localhost:8080/"
        },
        "id": "Wy8_tw4d6PzI",
        "outputId": "77531a12-6af2-48c3-98ac-7b52ae773f3b"
      },
      "execution_count": 21,
      "outputs": [
        {
          "output_type": "execute_result",
          "data": {
            "text/plain": [
              "['A2', 'A3', 'A8', 'A9']"
            ]
          },
          "metadata": {},
          "execution_count": 21
        }
      ]
    },
    {
      "cell_type": "markdown",
      "source": [
        "#**c)If the query is “Edge and Network”, what documents should be retrieved?**\n"
      ],
      "metadata": {
        "id": "fOsqPmMI7ua4"
      }
    },
    {
      "cell_type": "code",
      "source": [
        "# c) Boolean or Vector Space Matching for \"Edge and Network\"\n",
        "network_index = 3  # Index for Network\n",
        "\n",
        "# Retrieving documents for \"Edge and Network\"\n",
        "matching_documents_edge_network = [doc for doc, vec in documents.items() if vec[edge_index] == 1 and vec[network_index] == 1]\n",
        "\n",
        "matching_documents_edge_network"
      ],
      "metadata": {
        "colab": {
          "base_uri": "https://localhost:8080/"
        },
        "id": "jLuLY1NJ74FQ",
        "outputId": "b9694324-931d-4e14-b5c0-4aa95a030489"
      },
      "execution_count": 16,
      "outputs": [
        {
          "output_type": "execute_result",
          "data": {
            "text/plain": [
              "['A2', 'A4']"
            ]
          },
          "metadata": {},
          "execution_count": 16
        }
      ]
    },
    {
      "cell_type": "code",
      "source": [],
      "metadata": {
        "id": "jk3fw5OB7_rO"
      },
      "execution_count": null,
      "outputs": []
    }
  ]
}